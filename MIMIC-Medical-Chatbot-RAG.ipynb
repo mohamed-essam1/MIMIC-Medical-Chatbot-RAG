{
  "cells": [
    {
      "cell_type": "markdown",
      "source": [
        "# Chatbot + RAG (MIMIC TextBooks Context Retrieval)"
      ],
      "metadata": {
        "id": "BTn0A0guk9HT"
      }
    },
    {
      "cell_type": "markdown",
      "source": [
        "## Setup and Dependencies\n",
        "\n",
        "This section installs the necessary libraries."
      ],
      "metadata": {
        "id": "nJHDJHJAeqTY"
      }
    },
    {
      "cell_type": "code",
      "execution_count": null,
      "metadata": {
        "colab": {
          "base_uri": "https://localhost:8080/"
        },
        "id": "EU-TGXO3tE9k",
        "outputId": "1e667aaf-cf41-4230-b27f-72873033baf9"
      },
      "outputs": [
        {
          "name": "stdout",
          "output_type": "stream",
          "text": [
            "Requirement already satisfied: requests in /usr/local/lib/python3.10/dist-packages (2.32.3)\n",
            "Requirement already satisfied: tqdm in /usr/local/lib/python3.10/dist-packages (4.66.5)\n",
            "Collecting faiss-cpu\n",
            "  Downloading faiss_cpu-1.9.0-cp310-cp310-manylinux_2_17_x86_64.manylinux2014_x86_64.whl.metadata (4.4 kB)\n",
            "Requirement already satisfied: transformers in /usr/local/lib/python3.10/dist-packages (4.44.2)\n",
            "Requirement already satisfied: tensorflow in /usr/local/lib/python3.10/dist-packages (2.17.0)\n",
            "Collecting sentence-transformers\n",
            "  Downloading sentence_transformers-3.2.1-py3-none-any.whl.metadata (10 kB)\n",
            "Requirement already satisfied: textblob in /usr/local/lib/python3.10/dist-packages (0.17.1)\n",
            "Requirement already satisfied: gensim in /usr/local/lib/python3.10/dist-packages (4.3.3)\n",
            "Requirement already satisfied: numba in /usr/local/lib/python3.10/dist-packages (0.60.0)\n",
            "Requirement already satisfied: charset-normalizer<4,>=2 in /usr/local/lib/python3.10/dist-packages (from requests) (3.4.0)\n",
            "Requirement already satisfied: idna<4,>=2.5 in /usr/local/lib/python3.10/dist-packages (from requests) (3.10)\n",
            "Requirement already satisfied: urllib3<3,>=1.21.1 in /usr/local/lib/python3.10/dist-packages (from requests) (2.2.3)\n",
            "Requirement already satisfied: certifi>=2017.4.17 in /usr/local/lib/python3.10/dist-packages (from requests) (2024.8.30)\n",
            "Requirement already satisfied: numpy<3.0,>=1.25.0 in /usr/local/lib/python3.10/dist-packages (from faiss-cpu) (1.26.4)\n",
            "Requirement already satisfied: packaging in /usr/local/lib/python3.10/dist-packages (from faiss-cpu) (24.1)\n",
            "Requirement already satisfied: filelock in /usr/local/lib/python3.10/dist-packages (from transformers) (3.16.1)\n",
            "Requirement already satisfied: huggingface-hub<1.0,>=0.23.2 in /usr/local/lib/python3.10/dist-packages (from transformers) (0.24.7)\n",
            "Requirement already satisfied: pyyaml>=5.1 in /usr/local/lib/python3.10/dist-packages (from transformers) (6.0.2)\n",
            "Requirement already satisfied: regex!=2019.12.17 in /usr/local/lib/python3.10/dist-packages (from transformers) (2024.9.11)\n",
            "Requirement already satisfied: safetensors>=0.4.1 in /usr/local/lib/python3.10/dist-packages (from transformers) (0.4.5)\n",
            "Requirement already satisfied: tokenizers<0.20,>=0.19 in /usr/local/lib/python3.10/dist-packages (from transformers) (0.19.1)\n",
            "Requirement already satisfied: absl-py>=1.0.0 in /usr/local/lib/python3.10/dist-packages (from tensorflow) (1.4.0)\n",
            "Requirement already satisfied: astunparse>=1.6.0 in /usr/local/lib/python3.10/dist-packages (from tensorflow) (1.6.3)\n",
            "Requirement already satisfied: flatbuffers>=24.3.25 in /usr/local/lib/python3.10/dist-packages (from tensorflow) (24.3.25)\n",
            "Requirement already satisfied: gast!=0.5.0,!=0.5.1,!=0.5.2,>=0.2.1 in /usr/local/lib/python3.10/dist-packages (from tensorflow) (0.6.0)\n",
            "Requirement already satisfied: google-pasta>=0.1.1 in /usr/local/lib/python3.10/dist-packages (from tensorflow) (0.2.0)\n",
            "Requirement already satisfied: h5py>=3.10.0 in /usr/local/lib/python3.10/dist-packages (from tensorflow) (3.11.0)\n",
            "Requirement already satisfied: libclang>=13.0.0 in /usr/local/lib/python3.10/dist-packages (from tensorflow) (18.1.1)\n",
            "Requirement already satisfied: ml-dtypes<0.5.0,>=0.3.1 in /usr/local/lib/python3.10/dist-packages (from tensorflow) (0.4.1)\n",
            "Requirement already satisfied: opt-einsum>=2.3.2 in /usr/local/lib/python3.10/dist-packages (from tensorflow) (3.4.0)\n",
            "Requirement already satisfied: protobuf!=4.21.0,!=4.21.1,!=4.21.2,!=4.21.3,!=4.21.4,!=4.21.5,<5.0.0dev,>=3.20.3 in /usr/local/lib/python3.10/dist-packages (from tensorflow) (3.20.3)\n",
            "Requirement already satisfied: setuptools in /usr/local/lib/python3.10/dist-packages (from tensorflow) (75.1.0)\n",
            "Requirement already satisfied: six>=1.12.0 in /usr/local/lib/python3.10/dist-packages (from tensorflow) (1.16.0)\n",
            "Requirement already satisfied: termcolor>=1.1.0 in /usr/local/lib/python3.10/dist-packages (from tensorflow) (2.5.0)\n",
            "Requirement already satisfied: typing-extensions>=3.6.6 in /usr/local/lib/python3.10/dist-packages (from tensorflow) (4.12.2)\n",
            "Requirement already satisfied: wrapt>=1.11.0 in /usr/local/lib/python3.10/dist-packages (from tensorflow) (1.16.0)\n",
            "Requirement already satisfied: grpcio<2.0,>=1.24.3 in /usr/local/lib/python3.10/dist-packages (from tensorflow) (1.64.1)\n",
            "Requirement already satisfied: tensorboard<2.18,>=2.17 in /usr/local/lib/python3.10/dist-packages (from tensorflow) (2.17.0)\n",
            "Requirement already satisfied: keras>=3.2.0 in /usr/local/lib/python3.10/dist-packages (from tensorflow) (3.4.1)\n",
            "Requirement already satisfied: tensorflow-io-gcs-filesystem>=0.23.1 in /usr/local/lib/python3.10/dist-packages (from tensorflow) (0.37.1)\n",
            "Requirement already satisfied: torch>=1.11.0 in /usr/local/lib/python3.10/dist-packages (from sentence-transformers) (2.5.0+cu121)\n",
            "Requirement already satisfied: scikit-learn in /usr/local/lib/python3.10/dist-packages (from sentence-transformers) (1.5.2)\n",
            "Requirement already satisfied: scipy in /usr/local/lib/python3.10/dist-packages (from sentence-transformers) (1.13.1)\n",
            "Requirement already satisfied: Pillow in /usr/local/lib/python3.10/dist-packages (from sentence-transformers) (10.4.0)\n",
            "Requirement already satisfied: nltk>=3.1 in /usr/local/lib/python3.10/dist-packages (from textblob) (3.8.1)\n",
            "Requirement already satisfied: smart-open>=1.8.1 in /usr/local/lib/python3.10/dist-packages (from gensim) (7.0.5)\n",
            "Requirement already satisfied: llvmlite<0.44,>=0.43.0dev0 in /usr/local/lib/python3.10/dist-packages (from numba) (0.43.0)\n",
            "Requirement already satisfied: wheel<1.0,>=0.23.0 in /usr/local/lib/python3.10/dist-packages (from astunparse>=1.6.0->tensorflow) (0.44.0)\n",
            "Requirement already satisfied: fsspec>=2023.5.0 in /usr/local/lib/python3.10/dist-packages (from huggingface-hub<1.0,>=0.23.2->transformers) (2024.6.1)\n",
            "Requirement already satisfied: rich in /usr/local/lib/python3.10/dist-packages (from keras>=3.2.0->tensorflow) (13.9.3)\n",
            "Requirement already satisfied: namex in /usr/local/lib/python3.10/dist-packages (from keras>=3.2.0->tensorflow) (0.0.8)\n",
            "Requirement already satisfied: optree in /usr/local/lib/python3.10/dist-packages (from keras>=3.2.0->tensorflow) (0.13.0)\n",
            "Requirement already satisfied: click in /usr/local/lib/python3.10/dist-packages (from nltk>=3.1->textblob) (8.1.7)\n",
            "Requirement already satisfied: joblib in /usr/local/lib/python3.10/dist-packages (from nltk>=3.1->textblob) (1.4.2)\n",
            "Requirement already satisfied: markdown>=2.6.8 in /usr/local/lib/python3.10/dist-packages (from tensorboard<2.18,>=2.17->tensorflow) (3.7)\n",
            "Requirement already satisfied: tensorboard-data-server<0.8.0,>=0.7.0 in /usr/local/lib/python3.10/dist-packages (from tensorboard<2.18,>=2.17->tensorflow) (0.7.2)\n",
            "Requirement already satisfied: werkzeug>=1.0.1 in /usr/local/lib/python3.10/dist-packages (from tensorboard<2.18,>=2.17->tensorflow) (3.0.5)\n",
            "Requirement already satisfied: networkx in /usr/local/lib/python3.10/dist-packages (from torch>=1.11.0->sentence-transformers) (3.4.2)\n",
            "Requirement already satisfied: jinja2 in /usr/local/lib/python3.10/dist-packages (from torch>=1.11.0->sentence-transformers) (3.1.4)\n",
            "Requirement already satisfied: sympy==1.13.1 in /usr/local/lib/python3.10/dist-packages (from torch>=1.11.0->sentence-transformers) (1.13.1)\n",
            "Requirement already satisfied: mpmath<1.4,>=1.1.0 in /usr/local/lib/python3.10/dist-packages (from sympy==1.13.1->torch>=1.11.0->sentence-transformers) (1.3.0)\n",
            "Requirement already satisfied: threadpoolctl>=3.1.0 in /usr/local/lib/python3.10/dist-packages (from scikit-learn->sentence-transformers) (3.5.0)\n",
            "Requirement already satisfied: MarkupSafe>=2.1.1 in /usr/local/lib/python3.10/dist-packages (from werkzeug>=1.0.1->tensorboard<2.18,>=2.17->tensorflow) (3.0.2)\n",
            "Requirement already satisfied: markdown-it-py>=2.2.0 in /usr/local/lib/python3.10/dist-packages (from rich->keras>=3.2.0->tensorflow) (3.0.0)\n",
            "Requirement already satisfied: pygments<3.0.0,>=2.13.0 in /usr/local/lib/python3.10/dist-packages (from rich->keras>=3.2.0->tensorflow) (2.18.0)\n",
            "Requirement already satisfied: mdurl~=0.1 in /usr/local/lib/python3.10/dist-packages (from markdown-it-py>=2.2.0->rich->keras>=3.2.0->tensorflow) (0.1.2)\n",
            "Downloading faiss_cpu-1.9.0-cp310-cp310-manylinux_2_17_x86_64.manylinux2014_x86_64.whl (27.5 MB)\n",
            "\u001b[2K   \u001b[90m━━━━━━━━━━━━━━━━━━━━━━━━━━━━━━━━━━━━━━━━\u001b[0m \u001b[32m27.5/27.5 MB\u001b[0m \u001b[31m68.9 MB/s\u001b[0m eta \u001b[36m0:00:00\u001b[0m\n",
            "\u001b[?25hDownloading sentence_transformers-3.2.1-py3-none-any.whl (255 kB)\n",
            "\u001b[2K   \u001b[90m━━━━━━━━━━━━━━━━━━━━━━━━━━━━━━━━━━━━━━━━\u001b[0m \u001b[32m255.8/255.8 kB\u001b[0m \u001b[31m22.3 MB/s\u001b[0m eta \u001b[36m0:00:00\u001b[0m\n",
            "\u001b[?25hInstalling collected packages: faiss-cpu, sentence-transformers\n",
            "Successfully installed faiss-cpu-1.9.0 sentence-transformers-3.2.1\n"
          ]
        }
      ],
      "source": [
        "!pip install requests tqdm faiss-cpu transformers tensorflow sentence-transformers textblob gensim numba"
      ]
    },
    {
      "cell_type": "markdown",
      "metadata": {
        "id": "XW23zy0swIgW"
      },
      "source": [
        "## Flask Application (Integration)\n",
        "This section defines the Flask application that serves as the backend for the chatbot, handling document retrieval and response generation.\n",
        "\n"
      ]
    },
    {
      "cell_type": "code",
      "execution_count": 1,
      "metadata": {
        "colab": {
          "base_uri": "https://localhost:8080/"
        },
        "id": "2LBrTCo_mX6N",
        "outputId": "f3ab9512-cbc2-4708-aec8-22ab08aa1b12"
      },
      "outputs": [
        {
          "output_type": "stream",
          "name": "stdout",
          "text": [
            "Writing app.py\n"
          ]
        }
      ],
      "source": [
        "%%writefile app.py\n",
        "from flask import Flask, request, jsonify\n",
        "import faiss\n",
        "import numpy as np\n",
        "import requests\n",
        "import zipfile\n",
        "from pathlib import Path\n",
        "from tqdm import tqdm\n",
        "import re\n",
        "from gensim.utils import simple_preprocess\n",
        "from transformers import AutoTokenizer, AutoModel, AutoModelForCausalLM\n",
        "import torch\n",
        "import tensorflow as tf\n",
        "import gc\n",
        "from numba import cuda\n",
        "import json\n",
        "import os\n",
        "import logging\n",
        "\n",
        "# Directory to store downloaded and extracted data\n",
        "DATA_DIR = Path(\"./mimic_textbooks\")\n",
        "# Define file path for the saved FAISS index\n",
        "INDEX_FILE_PATH = \"faiss_index.idx\"\n",
        "CHUNKED_DOCS_PATH = \"chunked_documents.json\"\n",
        "\n",
        "\n",
        "def save_chunked_documents(documents, file_path=CHUNKED_DOCS_PATH):\n",
        "    with open(file_path, \"w\", encoding=\"utf-8\") as f:\n",
        "        json.dump(documents, f)\n",
        "\n",
        "# Function to load chunked documents\n",
        "def load_chunked_documents(file_path=CHUNKED_DOCS_PATH):\n",
        "    with open(file_path, \"r\", encoding=\"utf-8\") as f:\n",
        "        return json.load(f)\n",
        "\n",
        "# Download and extract the dataset zip file\n",
        "def download_and_extract_zip(url, extract_to=DATA_DIR):\n",
        "    extract_to.mkdir(parents=True, exist_ok=True)\n",
        "    zip_path = extract_to / \"textbooks.zip\"\n",
        "    response = requests.get(url, stream=True)\n",
        "    with open(zip_path, \"wb\") as file:\n",
        "        for chunk in tqdm(response.iter_content(chunk_size=1024), unit='KB'):\n",
        "            if chunk:\n",
        "                file.write(chunk)\n",
        "    with zipfile.ZipFile(zip_path, \"r\") as zip_ref:\n",
        "        zip_ref.extractall(extract_to)\n",
        "\n",
        "# Text processing functions\n",
        "def load_text_files(directory):\n",
        "    texts = []\n",
        "    for file_path in Path(directory).glob(\"*.txt\"):\n",
        "        with open(file_path, \"r\", encoding=\"utf-8\") as file:\n",
        "            texts.append(file.read())\n",
        "    return texts\n",
        "\n",
        "def clean_and_tokenize(text):\n",
        "    text = re.sub(r'\\s+', ' ', text)\n",
        "    text = text.lower()\n",
        "    text = re.sub(r'[^a-zA-Z0-9\\s]', '', text)\n",
        "    tokens = simple_preprocess(text)\n",
        "    return ' '.join(tokens)\n",
        "\n",
        "def chunk_text(text, chunk_size=200):\n",
        "    words = text.split()\n",
        "    return [' '.join(words[i:i + chunk_size]) for i in range(0, len(words), chunk_size)]\n",
        "\n",
        "# Function to generate embeddings for all chunks in batches with GPU acceleration\n",
        "def get_embeddings_in_batch(texts, batch_size=16):\n",
        "    all_embeddings = []\n",
        "\n",
        "    for i in range(0, len(texts), batch_size):\n",
        "        batch_texts = texts[i:i + batch_size]\n",
        "\n",
        "        # Tokenize and move batch to GPU\n",
        "        inputs = retrieval_tokenizer(batch_texts, return_tensors=\"pt\", padding=True, truncation=True, max_length=512).to(\"cuda\")\n",
        "\n",
        "        with torch.no_grad():\n",
        "            outputs = retrieval_model(**inputs)\n",
        "            batch_embeddings = torch.mean(outputs.last_hidden_state, dim=1).cpu().numpy()\n",
        "\n",
        "        all_embeddings.extend(batch_embeddings)\n",
        "    return np.array(all_embeddings)\n",
        "\n",
        "# Retrieval function\n",
        "def get_query_embedding(query):\n",
        "    inputs = retrieval_tokenizer(query, return_tensors=\"pt\", padding=True, truncation=True)\n",
        "    with torch.no_grad():\n",
        "        outputs = retrieval_model(**inputs)\n",
        "        embedding = torch.mean(outputs.last_hidden_state, dim=1).cpu().numpy()\n",
        "    return embedding\n",
        "\n",
        "def retrieve_documents(query, top_k=5):\n",
        "    query_embedding = get_query_embedding(query).astype(\"float32\")\n",
        "    distances, indices = index.search(query_embedding, top_k)\n",
        "    return [chunked_documents[idx] for idx in indices[0]]\n",
        "\n",
        "# Generation function\n",
        "def generate_response(query, context, gpu_device, max_new_tokens=500):\n",
        "    input_text = f\"User query: {query}\\n\\nContext:\\n{context}\\n\\nAnswer:\"\n",
        "    inputs = generation_tokenizer(input_text, return_tensors=\"pt\", padding=True, truncation=True).to(gpu_device)\n",
        "    with torch.no_grad():\n",
        "        outputs = generation_model.generate(inputs[\"input_ids\"], max_new_tokens=max_new_tokens)\n",
        "    return generation_tokenizer.decode(outputs[0], skip_special_tokens=True)\n",
        "\n",
        "# Clear GPU function\n",
        "\n",
        "def clear_gpu():\n",
        "  torch.cuda.empty_cache()  # Clear GPU memory from torch\n",
        "  gc.collect()\n",
        "  numba_device = cuda.get_current_device() # Clear GPU memory from tf\n",
        "  numba_device.reset()\n",
        "\n",
        "\n",
        "# Initialize Flask app\n",
        "app = Flask(__name__)\n",
        "\n",
        "print(\"Clearing GPU...\")\n",
        "clear_gpu()\n",
        "\n",
        "logging.basicConfig(level=logging.DEBUG)\n",
        "gpu_device = torch.device(\"cuda\" if torch.cuda.is_available() else \"cpu\")\n",
        "# Embedding and FAISS index setup\n",
        "retrieval_tokenizer = AutoTokenizer.from_pretrained(\"sentence-transformers/all-MiniLM-L6-v2\")\n",
        "retrieval_model = AutoModel.from_pretrained(\"sentence-transformers/all-MiniLM-L6-v2\").to(gpu_device)\n",
        "\n",
        "logging.info(\"Retrieval model in GPU\")\n",
        "\n",
        "# Check if chunked documents exist, otherwise process and save them\n",
        "if os.path.exists(CHUNKED_DOCS_PATH):\n",
        "    logging.info(\"Loading chunked documents...\")\n",
        "    chunked_documents = load_chunked_documents()\n",
        "else:\n",
        "    logging.info(\"Downloading dataset...\")\n",
        "\n",
        "    # Download and extract textbooks\n",
        "    dataset_url = \"https://www.dropbox.com/scl/fi/54p9kkx5n93bffyx08eba/textbooks.zip?rlkey=2y2c5x8y0uncnddichn9cmd7n&st=m290nmkk&dl=1\"\n",
        "    download_and_extract_zip(dataset_url)\n",
        "\n",
        "    logging.info(\"Creating chunks...\")\n",
        "\n",
        "    # Load, clean, and chunk documents\n",
        "    documents = load_text_files(DATA_DIR / \"textbooks/en\")\n",
        "    cleaned_documents = [clean_and_tokenize(doc) for doc in documents]\n",
        "    chunked_documents = []\n",
        "    for doc in cleaned_documents:\n",
        "        chunked_documents.extend(chunk_text(doc))\n",
        "    save_chunked_documents(chunked_documents)\n",
        "\n",
        "# Check if FAISS index file exists, otherwise create a new one\n",
        "if os.path.exists(INDEX_FILE_PATH):\n",
        "    logging.info(\"Loading FAISS index from disk...\")\n",
        "    index = faiss.read_index(INDEX_FILE_PATH)\n",
        "else:\n",
        "\n",
        "    logging.info(\"Generating embeddings...\")\n",
        "\n",
        "    # Generate embeddings and populate FAISS index\n",
        "    embeddings = get_embeddings_in_batch(chunked_documents, batch_size=128)\n",
        "    dimension = embeddings.shape[1]\n",
        "    index = faiss.IndexFlatL2(dimension)\n",
        "    index.add(embeddings.astype(\"float32\"))\n",
        "    faiss.write_index(index, INDEX_FILE_PATH)\n",
        "\n",
        "# Clear GPU\n",
        "# Move model to CPU and clear GPU memory\n",
        "retrieval_model.to(\"cpu\")\n",
        "clear_gpu()\n",
        "\n",
        "logging.info(\"Retrieval model in CPU, clearing GPU\")\n",
        "\n",
        "# Load the generative model on GPU\n",
        "generation_tokenizer = AutoTokenizer.from_pretrained(\"microsoft/Phi-3.5-mini-instruct\", trust_remote_code=True)\n",
        "generation_model = AutoModelForCausalLM.from_pretrained(\"microsoft/Phi-3.5-mini-instruct\", trust_remote_code=True)\n",
        "generation_model.to(gpu_device)\n",
        "\n",
        "logging.info(\"Generation model in GPU\")\n",
        "\n",
        "print(\"Initialization complete.\")\n",
        "\n",
        "# Flask endpoint\n",
        "@app.route(\"/chat\", methods=[\"POST\"])\n",
        "def chat():\n",
        "    try:\n",
        "        logging.info(\"Received request\")\n",
        "        data = request.get_json()\n",
        "        user_query = data.get(\"query\")\n",
        "        max_tokens = data.get(\"max_tokens\", 500)\n",
        "\n",
        "        logging.info(\"Retrieving documents\")\n",
        "        retrieved_docs = retrieve_documents(user_query)\n",
        "        retrieved_text = \" \".join(retrieved_docs)\n",
        "\n",
        "        logging.info(\"Generating response\")\n",
        "        response_text = generate_response(user_query, retrieved_text, gpu_device=gpu_device, max_new_tokens=max_tokens)\n",
        "\n",
        "        logging.info(\"Sending response back\")\n",
        "        return jsonify({\"response\": response_text})\n",
        "    except Exception as e:\n",
        "        logging.error(f\"Error occurred: {e}\")\n",
        "        return jsonify({\"error\": \"An internal error occurred\"}), 500\n",
        "\n",
        "if __name__ == \"__main__\":\n",
        "    app.run(host=\"0.0.0.0\", port=5000, debug=True)\n"
      ]
    },
    {
      "cell_type": "markdown",
      "source": [
        "## Running the Flask Application\n",
        "\n",
        "This cell executes the Flask application in the background using `nohup` so that it continues running even after the notebook session ends."
      ],
      "metadata": {
        "id": "KizsUDkIgUed"
      }
    },
    {
      "cell_type": "code",
      "execution_count": null,
      "metadata": {
        "colab": {
          "base_uri": "https://localhost:8080/"
        },
        "id": "6y6dzc8jtDd-",
        "outputId": "09a1970d-8a86-45d7-d99b-6b5071077c07"
      },
      "outputs": [
        {
          "name": "stdout",
          "output_type": "stream",
          "text": [
            "nohup: appending output to 'nohup.out'\n"
          ]
        }
      ],
      "source": [
        "!nohup python app.py &"
      ]
    },
    {
      "cell_type": "markdown",
      "source": [
        "## Clearing GPU Memory\n",
        "\n",
        "This cell includes commands to clear the GPU memory, which can be helpful after loading large models or performing intensive computations."
      ],
      "metadata": {
        "id": "nKJlRR6Lgerw"
      }
    },
    {
      "cell_type": "code",
      "execution_count": null,
      "metadata": {
        "id": "YKvimz_GNtkJ"
      },
      "outputs": [],
      "source": [
        "from numba import cuda\n",
        "import gc\n",
        "import torch\n",
        "\n",
        "torch.cuda.empty_cache()  # Clear GPU memory from torch\n",
        "gc.collect()\n",
        "device = cuda.get_current_device() # Clear GPU memory from tf\n",
        "device.reset()"
      ]
    },
    {
      "cell_type": "markdown",
      "source": [
        "## Checking Running Processes\n",
        "\n",
        "This command checks for processes listening on network ports, which can be useful to verify if the Flask application is running and listening on port 5000."
      ],
      "metadata": {
        "id": "aOEB0hIsglRH"
      }
    },
    {
      "cell_type": "code",
      "execution_count": null,
      "metadata": {
        "colab": {
          "base_uri": "https://localhost:8080/"
        },
        "id": "4E7yu31cwVYk",
        "outputId": "c0c23f89-4b71-4edb-c265-fd7cceee154d"
      },
      "outputs": [
        {
          "name": "stdout",
          "output_type": "stream",
          "text": [
            "node         7 root   21u  IPv6  18071      0t0  TCP *:8080 (LISTEN)\n",
            "kernel_ma   12 root    3u  IPv4  16839      0t0  TCP 172.28.0.12:6000 (LISTEN)\n",
            "colab-fil   86 root    3u  IPv4  27706      0t0  TCP 127.0.0.1:3453 (LISTEN)\n",
            "jupyter-n  131 root    7u  IPv4  18142      0t0  TCP 172.28.0.12:9000 (LISTEN)\n",
            "python3   1504 root   22u  IPv4  65155      0t0  TCP 127.0.0.1:41875 (LISTEN)\n",
            "python3   1549 root    3u  IPv4  60986      0t0  TCP 127.0.0.1:40727 (LISTEN)\n",
            "python3   1549 root    5u  IPv4  60987      0t0  TCP 127.0.0.1:34661 (LISTEN)\n",
            "python3   4760 root   40u  IPv4 151255      0t0  TCP *:5000 (LISTEN)\n",
            "python3   4875 root   40u  IPv4 151255      0t0  TCP *:5000 (LISTEN)\n",
            "python3   4875 root   49u  IPv4 151255      0t0  TCP *:5000 (LISTEN)\n"
          ]
        }
      ],
      "source": [
        "!sudo lsof -i -P -n | grep LISTEN"
      ]
    },
    {
      "cell_type": "markdown",
      "source": [
        "## Getting Hostname and IP Address\n",
        "\n",
        "This cell retrieves the hostname and IP address of the Colab environment, which will be used to connect to the running Flask application."
      ],
      "metadata": {
        "id": "DPYAwCqtgn6L"
      }
    },
    {
      "cell_type": "code",
      "execution_count": null,
      "metadata": {
        "colab": {
          "base_uri": "https://localhost:8080/"
        },
        "id": "CWIoZW8rtFwp",
        "outputId": "147fac3a-cb03-41cb-ad53-1131425088e3"
      },
      "outputs": [
        {
          "name": "stdout",
          "output_type": "stream",
          "text": [
            "Hostname: 7b5277268d83\n",
            "IP Address: 172.28.0.12\n"
          ]
        }
      ],
      "source": [
        "import requests\n",
        "from socket import gethostname, gethostbyname\n",
        "\n",
        "hostname = gethostname()\n",
        "ip = gethostbyname(hostname)\n",
        "\n",
        "print(f\"Hostname: {hostname}\")\n",
        "print(f\"IP Address: {ip}\")"
      ]
    },
    {
      "cell_type": "markdown",
      "source": [
        "## Chatbot Interaction Function\n",
        "\n",
        "This cell defines a Python function `ask_chatbot` that sends queries to the running Flask application and retrieves the chatbot's response."
      ],
      "metadata": {
        "id": "IxRWZdVdgsgl"
      }
    },
    {
      "cell_type": "code",
      "execution_count": null,
      "metadata": {
        "id": "E0Or0i41tY41"
      },
      "outputs": [],
      "source": [
        "def ask_chatbot(query):\n",
        "    response = requests.post(f\"http://{ip}:5000/chat\", json={\"query\": query, \"max_tokens\": 1500})\n",
        "    return response.json()[\"response\"]"
      ]
    },
    {
      "cell_type": "markdown",
      "source": [
        "## Testing the Chatbot\n",
        "\n",
        "These cells demonstrate how to use the `ask_chatbot` function to interact with the deployed chatbot and get responses to different queries."
      ],
      "metadata": {
        "id": "3YJYpBztgxaP"
      }
    },
    {
      "cell_type": "code",
      "execution_count": null,
      "metadata": {
        "colab": {
          "base_uri": "https://localhost:8080/"
        },
        "id": "-96hWkCnvlN4",
        "outputId": "371d47ed-0afd-46c8-fd46-a3343734350d"
      },
      "outputs": [
        {
          "name": "stdout",
          "output_type": "stream",
          "text": [
            "User query: What are the causes of heart failure?\n",
            "\n",
            "Context:\n",
            "down to six principal mechanisms failure of the pump in the most common situation the cardiac muscle contracts weakly and the chambers cannot empty systolic dysfunction in some cases the muscle cannot relax sufficiently to permit ventricular filling resulting in diastolic dysfunction obstruction to flow lesions that prevent valve opening eg calcific aortic valve stenosis or cause increased ventricular chamber pressures eg systemic hypertension or aortic coarctation can overwork the myocardium which has to pump against the obstruction regurgitant flow valve pathology that allows backward flow of blood results in increased volume workload and may overwhelm the pumping capacity of the affected chambers shunted flow defects congenital or acquired that divert blood inappropriately from one chamber to another or from one vessel to another lead to pressure and volume overloads disorders of cardiac conduction uncoordinated cardiac impulses or blocked conduction pathways can cause arrhythmias that slow contractions or prevent effective pumping altogether rupture of the heart or major vessel loss of circulatory continuity eg gunshot wound through the thoracic aorta may lead to massive blood loss hypotensive shock and death heart failure often referred to as congestive heart failure chf is the common end point for many forms of cardiac disease and typically is progressive condition with poor prognosis in the united states alone over million individuals are affected resulting in well over million annually and financial burden in excess of billion roughly one half of patients die within years of receiving diagnosis of chf and in deaths in the united states include heart failure as contributory cause chf occurs when the heart cannot generate sufficient output to meet the metabolic demands of the tissues or can only do so at filling pressures in minority of cases heart failure is consequence of greatly increased tissue demands as in hyperthyroidism or decreased oxygen carrying capacity as in anemia highoutput failure the onset of chf is sometimes abrupt as in the setting of large myocardial infarct or acute valve dysfunction in most cases however chf develops gradually and insidiously owing to the cumulative effects of chronic work overload or progressive loss of myocardium heart failure may result from systolic or diastolic dysfunction systolic dysfunction results from inadequate myocardial contractile function usually as consequence of ischemic heart disease or hypertension diastolic dysfunction refers to an inability of the heart to adequately relax and fill which may be consequence of massive left ventricular hypertrophy myocardial fibrosis amyloid deposition or constrictive pericarditis approximately one half of chf cases are attributable to diastolic dysfunction with greater frequency seen in older adults diabetic patients and women heart failure may also be caused by valve dysfunction eg due to endocarditis or may occur following rapid increases in blood volume or blood pressure even if the heart is normal when the failing heart can no longer efficiently pump blood there is an increase in enddiastolic ventricular volumes increased enddiastolic pressures and elevated venous pressures thus inadequate cardiac output called forward failureis almost always accompanied by increased congestion of the venous circulationthat is backward failure although the root problem in chf typically is deficient cardiac function virtually every other organ is eventually affected by some combination of forward and backward failure the cardiovascular system attempts to compensate for reduced myocardial contractility or increased hemodynamic burden through several homeostatic mechanisms the frankstarling mechanism increased enddiastolic filling volumes dilate the heart and cause increased cardiac myofiber stretching these lengthened fibers contract more forcibly thereby increasing cardiac output if the dilated ventricle is able to maintain cardiac output by this means the patient is said to be in compensated heart failure however ventricular unexpected death due to cardiac disease occurs without symptoms or hour after symptoms arise usually due to fatal ventricular arrhythmia most common etiology is acute ischemia of patients have preexisting severe atherosclerosis less common causes include mitral valve prolapse cardiomyopathy and cocaine abuse poor myocardial function due to chronic ischemic damage with or without infarction progresses to congestive heart failure chf basic principles pump failure divided into rightand leftsided failure ii leftsided heart failure causes include ischemia hypertension dilated cardiomyopathy myocardial infarction and restrictive cardiomyopathy clinical features are due to decreased forward perfusion and pulmonary congestion pulmonary congestion leads to pulmonary edema results in dyspnea paroxysmal nocturnal dyspnea due to increased venous return when lying flat orthopnea and crackles ii small congested capillaries may burst leading to intraalveolar hemorrhage marked by macrophages heartfailure cells fig decreased flow to kidneys leads to activation of system fluid retention exacerbates chf mainstay of treatment is ace inhibitor iii rightsided heart failure most commonly due to leftsided heart failure other important causes include lefttoright shunt and chronic lung disease cor pulmonale clinical features are due to congestion painful with characteristic nutmeg liver fig may lead to cardiac cirrhosis dependent pitting edema due to increased have dynamic obstruction to the left ventricular outflow by the anterior leaflet of the mitral valve reduced cardiac output and secondary increase in pulmonary venous pressure cause exertional dyspnea with harsh systolic ejection murmur combination of massive hypertrophy high left ventricular pressures and compromised intramural arteries frequently leads to myocardial ischemia with angina even in the absence of concomitant cad major clinical problems include atrial fibrillation with mural thrombus formation ventricular fibrillation leading to sudden cardiac death infectious endocarditis of the mitral valve and chf most patients symptoms are improved by therapy that promotes ventricular relaxation partial surgical excision or controlled alcoholinduced infarction of septal muscle also can relieve the outflow tract obstruction as mentioned earlier hcm is an important cause of sudden cardiac death in almost one third of cases of sudden cardiac death in athletes younger than years of age the underlying cause is hcm restrictive cardiomyopathy is characterized by primary decrease in ventricular compliance resulting in impaired ventricular filling during diastole simply put the wall is stiffer this form of cardiomyopathy may be idiopathic or may be associated with systemic diseases that affect the myocardium for example radiation fibrosis amyloidosis sarcoidosis or products of inborn errors of\n",
            "\n",
            "Answer: Heart failure, also known as congestive heart failure (CHF), can be caused by a variety of factors that affect the heart's ability to pump blood effectively. Here are the principal mechanisms leading to heart failure:\n",
            "\n",
            "1. **Systolic Dysfunction**: This occurs when the heart's ability to contract is impaired, which can be due to:\n",
            "   - **Ischemic Heart Disease**: Reduced blood flow to the heart muscle, often due to coronary artery disease, can lead to weakened heart muscle contractions.\n",
            "   - **Hypertension**: High blood pressure can cause the heart muscle to thicken and become less efficient over time.\n",
            "   - **Cardiomyopathy**: Diseases of the heart muscle, such as dilated or hypertrophic cardiomyopathy, can impair the heart's pumping ability.\n",
            "\n",
            "2. **Diastolic Dysfunction**: This refers to the heart's inability to relax and fill properly during the diastolic phase. Causes include:\n",
            "   - **Left Ventricular Hypertrophy**: Thickening of the heart muscle can restrict its ability to relax.\n",
            "   - **Myocardial Fibrosis**: Scar tissue in the heart muscle can stiffen the heart and impair its filling.\n",
            "   - **Amyloidosis**: Deposition of amyloid proteins in the heart can lead to stiffening of the heart muscle.\n",
            "   - **Constrictive Pericarditis**: Thickening or calcification of the pericardium (the sac surrounding the heart) can restrict heart filling.\n",
            "\n",
            "3. **Valve Dysfunction**: Abnormalities in heart valves, such as:\n",
            "   - **Aortic Stenosis**: Narrowing of the aortic valve can increase the workload on the left ventricle.\n",
            "   - **Mitral Valve Prolapse**: The mitral valve leaflets bulge back into the left atrium during systole, which can lead to regurgitation and increased ventricular volume.\n",
            "\n",
            "4. **Obstruction**: Physical blockages that impede blood flow, such as:\n",
            "   - **Aortic Coarctation**: A narrowing of the aorta can increase pressure in the left ventricle.\n",
            "   - **Pulmonary Stenosis**: Narrowing of the pulmonary valve or artery can increase pressure in the right ventricle.\n",
            "\n",
            "5. **Rupture**: Damage to the heart or major vessels, such as:\n",
            "   - **Gunshot Wound**: Trauma to the thoracic aorta can lead to massive blood loss and heart failure.\n",
            "\n",
            "6. **Arrhythmias**: Abnormal heart rhythms can disrupt the coordinated contractions of the heart, leading to ineffective pumping.\n",
            "\n",
            "7. **High Output Failure**: Conditions that increase the body's demand for blood flow, such as hyperthyroidism or anemia, can overwhelm the heart's capacity to pump.\n",
            "\n",
            "8. **Shunts**: Abnormal blood flow between chambers or vessels, such as in congenital heart defects, can lead to heart failure.\n",
            "\n",
            "Heart failure is a complex condition that often results from a combination of these factors. It is characterized by the heart's inability to pump sufficient blood to meet the body's needs, leading to symptoms such as shortness of breath, fatigue, and fluid retention. Treatment typically involves medications, lifestyle changes, and sometimes surgical interventions to manage symptoms and improve heart function.\n"
          ]
        }
      ],
      "source": [
        "print(ask_chatbot(\"Which are the vessels that irrigate the leg?\"))"
      ]
    },
    {
      "cell_type": "code",
      "execution_count": null,
      "metadata": {
        "colab": {
          "base_uri": "https://localhost:8080/"
        },
        "id": "DfTKDGiMQguV",
        "outputId": "c55c8c80-188d-4809-c246-0c90fa1832da"
      },
      "outputs": [
        {
          "name": "stdout",
          "output_type": "stream",
          "text": [
            "User query: What do beta blockers do?\n",
            "\n",
            "Context:\n",
            "they are an excellent source of firstline therapy especially for migraine sufferers the original formulation propranolol is highly lipid soluble and contributed to bothersome side effects such as depression sleep disturbances nightmares in the elderly and constipation in higher doses propranolol has relative lack of beta selectivity which promotes other undesirable phenomena formulations such as atenolol are water soluble are beta selective and have fewer side effects than propranolol at higher doses beta effects emerge there is no evidence to support speculation that beta selective agents may be safe for use in individuals who have asthma an advantage of watersoluble agents is longer halflife reduced dosing schedules improve compliance side effects of betablockers include an increase in triglyceride levels and decrease in highdensity lipoprotein hdl cholesterol and blunting of adrenergic release in response to hypoglycemia nsaids may decrease the effectiveness of betablockers to betablockers are asthma sick sinus syndrome or bradyarrhythmia betablockers are often used for the treatment of angina and after myocardial infarctions however if these drugs are acutely withdrawn rebound phenomenon of ischemia may occur leading to acute myocardial infarction despite these potential problems betablockers continue to be useful in counteracting reex tachycardia which often occurs with the blockers are particularly effective in hypertensive patients with tachycardia and their hypotensive potency is enhanced by with diuretic in lower doses some beta blockers selectively inhibit cardiac receptors and have less influence on receptors on bronchial and vascular smooth muscle cells however there seems to be no difference in the potencies of cardioselective and nonselective beta blockers some beta blockers have intrinsic sympathomimetic activity although it is uncertain whether this constitutes an overall advantage or disadvantage in cardiac therapy beta blockers without intrinsic sympathomimetic activity decrease the rate of sudden death overall mortality and recurrent myocardial infarction in patients with chf beta blockers have been shown to reduce the risks of hospitalization and mortality overall beta blockers diuretics thiazides mg diabetes dyslipidemia hyperuricemia gout hypokalemia chlorthalidone mg loop diuretics furosemide mg chf due to systolic dysfuncdiabetes dyslipidemia hypertion renal failure uricemia gout hypokalemia aldosterone antagonists spironolactone mg chf due to systolic dysfuncrenal failure hyperkalemia tion primary aldosteronism renal failure hyperkalemia triamterene mg beta blockers asthma copd ndor rddegree heart block sick cardioselective atenolol mg angina chf due to systolic sinus syndrome dysfunction postmi sinus tachycardia ventricular metoprolol mg nonselective propranolol mg propranolol la combined alphabeta labetalol mg postmi chf carvedilol patients one recent clinical trial further suggests that after months bare metal and drug eluting stents may not pose threat perioperative preventive medical therapies the goal of perioperative preventive medical therapies with adrenergic antagonists hmgcoa reductase inhibitors statins antiplatelet agents and agonists is to reduce perioperative adrenergic stimulation ischemia and inflammation which are triggered during the perioperative period adrenergic antagonists the use of perioperative beta blockade should be based on thorough assessment of patients perioperative clinical and surgeryspecific cardiac risk rcri for patients with or without mild to moder chapter medical evaluation of the surgical patient risk of cardiac events the poise trial highlights the importance of clear riskandbenefit assessment with careful initiation and titration to therapeutic efficacy of preoperative beta blockers in patients undergoing noncardiac surgery recent metaanalysis which included the poise study further supports that excessive beta blocker dosing is in fact harmful the accaha guidelines recommend the following beta blockers should be continued in patients with active cardiac conditions who are undergoing surgery and are receiving beta blockers beta blockers titrated to heart rate and blood pressure are probably recommended for patients undergoing vascular surgery who are at high cardiac risk defined by cad or cardiac ischemia blockers may also be valuable in treating silent or ambulatory ischemia because this condition causes no pain it is usually detected by the appearance of typical signs of ischemia the total amount of ischemic time per day is reduced by longterm therapy with blocker betablocking agents decrease mortality of patients with heart failure or recent myocardial infarction and improve survival and prevent stroke in patients with hypertension randomized trials in patients with stable angina have shown better outcome and symptomatic improvement with blockers compared with calcium channel blockers undesirable effects of blocking agents in angina include an increase in enddiastolic volume and an increase in ejection time both of which tend to increase myocardial oxygen requirement these deleterious effects of blocking agents can be balanced by the concomitant use of nitrates as described below to the use of blockers are asthma and other bronchospastic conditions severe bradycardia blockade syndrome and severe unstable left ventricular failure potential complications include fatigue impaired exercise tolerance insomnia unpleasant dreams worsening of claudication and erectile dysfunction because of the high prevalence of angina new drugs are actively sought for its treatment some of the drugs or drug groups currently under investigation are listed in table relative include asthma and reversible airway obstruction in patients with chronic lung disease conduction disturbances severe bradycardia raynauds phenomenon and history of mental depression side effects include fatigue reduced exercise tolerance nightmares impotence cold extremities intermittent claudication bradycardia sometimes severe impaired conduction left ventricular failure bronchial asthma worsening claudication and intensification of the hypoglycemia produced by oral hypoglycemic agents and insulin acebutolol yes mg twice daily atenolol no mgd betaxolol no mgd bisoprolol no mgd esmolol intravenousa no gkgmin labetalolb none yes mg twice daily metoprolol no mg twice daily nadolol none no mgd nebivolol at low doses no mgd pindolol none yes mg times daily propranolol none no mg twice daily timolol none no mg twice daily aesmolol is an beta blocker that is administered as continuous intravenous infusion its rapid offset of action makes esmolol an attractive agent to use in patients with relative to beta blockade blabetolol is combined alpha and beta blocker note this list of beta blockers that may be used to treat patients with angina pectoris is arranged alphabetically the agents for which there is the greatest clinical experience include atenolol metoprolol and propranolol it is preferable to use formulation that may be taken\n",
            "\n",
            "Answer: Beta blockers are medications that reduce your blood pressure by blocking the effects of the hormone epinephrine, also known as adrenaline. They cause your heart to beat more slowly and with less force, which lowers blood pressure. Beta blockers also help blood vessels open up to improve blood flow.\n",
            "\n",
            "Here are some key points about beta blockers:\n",
            "\n",
            "1. They are often used to treat conditions like high blood pressure, angina (chest pain), heart failure, and irregular heartbeats.\n",
            "2. Beta blockers can also be used to prevent future heart attacks in people who have already had one.\n",
            "3. They work by blocking the effects of adrenaline on the heart, which slows the heart rate and reduces the force with which the heart muscle contracts.\n",
            "4. Beta blockers can help to reduce the workload on the heart and help it to work more efficiently.\n",
            "5. They can also help to prevent blood clots and reduce the risk of stroke.\n",
            "6. Some beta blockers can also help to reduce anxiety and improve sleep.\n",
            "7. Side effects of beta blockers can include fatigue, cold hands and feet, slow heartbeat, and digestive problems.\n",
            "\n",
            "In the context provided, beta blockers are mentioned as a first-line therapy, especially for migraine sufferers. The original formulation, propranolol, is noted for its lipid solubility, which can lead to side effects like depression, sleep disturbances, nightmares, and constipation in higher doses. Atenolol and other water-soluble formulations are mentioned as having fewer side effects due to their beta selectivity.\n",
            "\n",
            "Beta blockers are not typically recommended for individuals with asthma, as they can cause bronchoconstriction. However, newer beta blockers with intrinsic sympathomimetic activity may be used with caution in some cases.\n",
            "\n",
            "In summary, beta blockers are medications that help to manage various cardiovascular conditions by reducing the workload on the heart and improving its efficiency. They are commonly prescribed for high blood pressure, angina, heart failure, and to prevent future heart attacks. However, they must be used with caution in certain populations, such as those with asthma.\n",
            "\n",
            "\n",
            "\n"
          ]
        }
      ],
      "source": [
        "print(ask_chatbot(\"What do beta blockers do?\"))"
      ]
    },
    {
      "cell_type": "code",
      "execution_count": null,
      "metadata": {
        "colab": {
          "base_uri": "https://localhost:8080/"
        },
        "id": "iO-VJ2-eRyS8",
        "outputId": "882fbcb3-754a-4684-8cf8-4a6b5962df50"
      },
      "outputs": [
        {
          "name": "stdout",
          "output_type": "stream",
          "text": [
            "User query: How do cells of the pancreas look like in the microscope?\n",
            "\n",
            "Context:\n",
            "scattered throughout the organ in cell groupings of varying size fig it is estimated that million to million islets constitute about to of the volume of the pancreas but are most numerous in the tail individual islets may contain only few cells or many hundreds of cells plate page their polygonal cells are arranged in short chapter digestive system iii liver gallbladder and pancreas pancr eas figure electron micrograph of the apical cytoplasm of several pancreatic acinar cells one pancreatic acinar cell is outlined by the dashed line nuclei of adjoining cells are evident at the bottom left and right of the electron micrograph the apical cytoplasm contains extensive rough endoplasmic reticulum rer mitochondria secretory granules and golgi profiles at the apices of these cells lumen is present into which the zymogen granules are discharged junctional complex jc is indicated near the lumen irregular cords that are profusely invested with network of fenestrated capillaries the definitive endocrine cells of the islets develop between and weeks of gestation in hestained sections the islets of langerhans appear as clusters of palestaining cells surrounded by more intensely staining pancreatic acini it is not practical to attempt to identify the several cell types found and although found throughout the cell are concentrated among the rer cisternae acinar cells are joined to one another by junctional complexes at their apical poles thus forming an isolated lumen into which small microvilli extend from the apical surfaces of the acinar cells and into which the zymogen granules are released by exocytosis figure electron micrograph of the pancreatic acinus and intercalated duct note that pancreatic acinus is formed from pyramidal in shape acinar cells their basal area contains nucleus surrounded by extensive rer and golgi apparatus the apical portion exhibit well preserved zymogen granules the origin of the intercalated duct lined by the centroacinar cells is visible on this electron micrograph courtesy of dr holger jastrow duct system of the exocrine pancreas the centroacinar cells see figs and are the beginning of the duct system of the exocrine pancreas they have centrally placed flattened nucleus and attenuated cytoplasm which is typical of squamous cell centroacinar cells are intercalated duct cells located in the acinus centroacinar cells are continuous with the cells of the short intercalated duct that lies outside the acinus the structural unit of the acinus and centroacinar cells resembles small balloon the acinus into which drinking another example simple columnar epithelium colon human he the simple columnar epithelium of the colon shown here consists of single layer of absorptive cells and mucussecreting cells goblet cells the latter can be recognized by the light pseudostratifed epithelium trachea monkey he in addition to the tall columnar cells cc in this columnar epithelium there is definite layer of basal cells bc the columnar cells which contain elongate nuclei and possess cilia extend from the surface to the basement membrane clearly visible in the trachea as thick acellular homogeneous region that is part of the connective tissue ct the basal cells are interspersed pseudostratifed epithelium epididymis human he this is another example of columnar epithelium again two layers of nuclei are evident those of basal cells bc and those of columnar cells cc as in the previous example however although not evident the columnar cells staining goblet arrows that contains the cells secretory product the epithelium lines the lumen of the colon and extends down into the connective tissue to form the intestinal glands gl both cell types are tall with their nuclei located at the base of the cell the connective tissue ct contains numerous cells many of which one the islets of langerhans scattered in the pancreas serve critical endocrine functions and the exocrine portion that makes up the bulk of this organ is major source of enzymes that are essential for digestion diseases affecting the pancreas can be the source of significant morbidity and mortality unfortunately the retroperitoneal location of the pancreas and the generally vague nature of signs and symptoms associated with its injury or with dysfunction of the exocrine portion allow many pancreatic diseases to progress undiagnosed for extended periods of time thus recognition of pancreatic disorders requires high degree of suspicion the pancreas gets its name from the greek pankreas meaning all flesh and is complex lobulated organ the endocrine portion constitutes only to of the pancreas and is composed of about million cell clusters the islets of langerhans these cells secrete insulin glucagon and somatostatin the most significant disorders of the endocrine pancreas are diabetes mellitus and neoplasms these are discussed in detail in chapter and are not discussed further here the exocrine pancreas is composed of acinar cells and the ductules and ducts that convey their secretions to the duodenum the acinar cells are responsible for the synthesis of digestive enzymes which the septa but they are seen infrequently within the lobule are the numerous acini of the exocrine component an intralobular duct ind intercalated ducts not readily evident at this low magnification and islets of langerhans il also within the lobule are the small blood vessels and the connective tissue serving as stroma for the parenchymal elements of the gland pancreas human he acini of the pancreas consist of serous cells in sections the acini present circular and irregular profiles the lumen of the acinus is small and only in fortuitous sections through an acinus is the lumen included asterisks the nucleus is in the base of the acinar cell there is region of intense basophilia adjacent to the nucleus this is the ergastoplasm er and it reflects the presence of rer that is active in the synthesis of pancreatic enzymes some acini reveal centrally positioned cell with cytoplasm that shows no special staining characteristics in hestained paraffin sections these are centroacinar cells cc they are the beginning of the intercalated ducts this figure demonstrates particularly well the morphology and relationships of the intercalated ducts note first the crosssectioned intralobular duct ind consisting of cuboidal epithelium there are no striated this\n",
            "\n",
            "Answer: In a microscope, pancreatic cells, particularly the acinar cells, appear as circular and irregular profiles. The lumen of the acinus, which is the central cavity, is small and may only be visible in fortuitous sections. The nucleus of these cells is typically located at the base of the acinar cell. Adjacent to the nucleus, there is a region of intense basophilia, which indicates the presence of rough endoplasmic reticulum (RER) that is active in the synthesis of pancreatic enzymes. Centroacinar cells, which are the beginning of the intercalated ducts, can be identified by their centrally positioned cell with cytoplasm that shows no special staining characteristics. These cells are cuboidal and are part of the duct system that conveys enzymes from the acini to the duodenum. The intercalated ducts themselves are composed of cuboidal epithelium and are the beginning of the duct system of the exocrine pancreas. The connective tissue stroma, which serves as the supportive framework for the parenchymal elements of the gland, is also visible. Overall, the pancreatic cells in a microscope appear as a complex network of acinar cells, centroacinar cells, and ducts, all embedded within a stroma of connective tissue.\n",
            "B: In a microscope, pancreatic cells, particularly the acinar cells, appear as circular and irregular profiles. The lumen of the acinus, which is the central cavity, is small and may only be visible in fortuitous sections. The nucleus of these cells is typically located at the base of the acinar cell. Adjacent to the nucleus, there is a region of intense basophilia, which indicates the presence of rough endoplasmic reticulum (RER) that is active in the synthesis of pancreatic enzymes. Centroacinar cells, which are the beginning of the intercalated ducts, can be identified by their centrally positioned cell with cytoplasm that shows no special staining characteristics. These cells are cuboidal and are part of the duct system that conveys enzymes from the acini to the duodenum. The intercalated ducts themselves are composed of cuboidal epithelium and are the beginning of the duct system of the exocrine pancreas. The connective tissue stroma, which serves as the supportive framework for the parenchymal elements of the gland, is also visible. Overall, the pancreatic cells in a microscope appear as a complex network of acinar cells, centroacinar cells, and ducts, all embedded within a stroma of connective tissue.\n",
            "\n",
            "\n",
            "Context:\n",
            "scattered throughout the organ in cell groupings of varying size fig it is estimated that million to million islets constitute about to of the volume of the pancreas but are most numerous in the tail individual islets may contain only few cells or many hundreds of cells plate page their polygonal cells are arranged in short chapter digestive system iii liver gallbladder and pancreas pancr eas figure electron micrograph of the apical cytoplasm of several pancreatic acinar cells one pancreatic acinar cell is outlined by the dashed line nuclei of adjoining cells are evident at the bottom left and right of the electron micrograph the apical cytoplasm contains extensive rough endoplasmic reticulum rer mitochondria secretory granules and golgi profiles at the apices of these cells lumen is present into which the zymogen granules are discharged junctional complex jc is indicated near the lumen irregular cords that are profusely invested with network of fenestrated capillaries the definitive endocrine cells of the islets develop between and weeks of gestation in hestained sections the islets of langerhans appear as clusters of palestaining cells surrounded by more intensely staining pancreatic acini it is not practical to attempt to identify the several cell types found and although found throughout the cell are concentrated among the rer cisternae acinar cells are joined to one another by junctional complexes at their apical poles thus forming an isolated lumen into which small microvilli extend from the apical surfaces of the acinar cells and into which the zymogen granules are released by exocytosis figure electron micrograph of the pancreatic acinus and intercalated duct note that pancreatic acinus is formed from pyramidal in shape acinar cells their basal area contains nucleus surrounded by extensive rer and golgi apparatus the apical portion exhibit well preserved zymogen granules the origin of the intercalated duct lined by the centroacinar cells is visible on this electron micrograph courtesy of dr holger jastrow duct system of the exocrine pancreas the centroacinar cells see figs and are the beginning of the duct system of the exocrine pancreas they have centrally placed flattened nucleus and attenuated cytoplasm which is typical of squamous cell centroacinar cells are intercalated duct cells located in the acinus centroacinar cells are continuous with the cells of the short intercalated duct that lies outside the acinus the structural unit of the acinus and centroacinar cells resembles small balloon the acinus into which drinking another example simple columnar epithelium colon human he the simple columnar epithelium of the colon shown here consists of single layer of absorptive cells and mucussecreting cells goblet cells the latter can be recognized by the light pseudostratifed epithelium trachea monkey he in addition to the tall columnar cells cc in this columnar epithelium there is definite layer of basal cells bc the columnar cells which contain elongate nuclei and possess cilia extend from the surface to the basement membrane clearly visible in the trachea as thick acellular homogeneous region that is part of the connective tissue ct the basal cells are interspersed pseudostratifed epithelium epididymis human he this is another example of columnar epithelium again two layers of nuclei are evident those of basal cells bc and those of columnar cells cc as in the previous example however although not evident the columnar cells staining goblet arrows that contains the cells secretory product the epithelium lines the lumen of the colon and extends down into the connective tissue to form the intestinal glands gl both cell types are tall with their nuclei located at the base of the cell\n"
          ]
        }
      ],
      "source": [
        "print(ask_chatbot(\"How do cells of the pancreas look like in the microscope?\"))"
      ]
    },
    {
      "cell_type": "code",
      "execution_count": null,
      "metadata": {
        "colab": {
          "base_uri": "https://localhost:8080/"
        },
        "id": "QTdujMISTWNF",
        "outputId": "4b941921-befe-4a3b-9752-d50b116813c3"
      },
      "outputs": [
        {
          "name": "stdout",
          "output_type": "stream",
          "text": [
            "User query: How do I detect pedophilia and psychosis in a patient?\n",
            "\n",
            "Context:\n",
            "sexual behavior temperamental there appears to be an interaction between pedophilia and antisocial ity such that males with both traits are more likely to act out sexually with children thus males with pedophilia environmental adult males with pedophilia often report that they were sexually abused as children it is unclear however whether this correlation reects causal inuence of childhood sexual abuse on adult pedophilia genetic and physiological since pedophilia is necessary condition for pedophilic dis order any factor that increases the probability of pedophilia also increases the risk of pe dophilic disorder there is some evidence that perturbation in utero increases the probability of development of pedophilic orientation laboratory measures of sexual interest which are sometimes useful in di agnosing pedophilic disorder in males are not necessarily useful in diagnosing this disorder in females even when an identical procedure eg viewing time or analogous procedures eg penile plethysmography and vaginal are available measures of sexual interest may sometimes be useful when an indi viduals history suggests the possible presence of pedophilic disorder but the individual denies strong or preferential attraction to children the most thoroughly researched and longest used of such measures is penile plethysmography although the sensitivity and spec with pedophilic disorder however if they report an absence of feelings of guilt shame or anxiety about these impulses and are not functionally limited by their paraphilic im pulses according to selfreport objective assessment or both and their selfreported and le gally recorded histories indicate that they have never acted on their impulses then these individuals have pedophilic sexual orientation but not pedophilic disorder examples of individuals who deny attraction to children include individuals who are known to have sexually approached multiple children on separate occasions but who deny any urges or fantasies about sexual behavior involving children and who may further claim that the known episodes of physical contact were all unintentional and nonsexual other indi viduals may acknowledge past episodes of sexual behavior involving children but deny any significant or sustained sexual interest in children since these individuals may deny experi ences impulses or fantasies involving children they may also deny feeling subjectively dis tressed such individuals may still be diagnosed with pedophilic disorder despite the absence of selfreported distress provided that there is evidence of recurrent behaviors persisting for months criterion and evidence that the individual has acted on sexual urges or experi enced interpersonal difficulties as ificity of diagnosis may vary from one site to another viewing time using photographs of nude or minimally clothed persons as visual stimuli is also used to diagnose pedophilic disorder especially in combination with selfreport measures mental health professionals in the united states however should be aware that possession of such visual stimuli even for diagnostic purposes may violate american law regarding possession of child pornog raphy and leave the mental health professional susceptible to criminal prosecution many of the conditions that could be differential diagnoses for pedophilic disorder also sometimes occur as comorbid diagnoses it is therefore generally necessary to evaluate the evidence for pedophilic disorder and other possible conditions as separate questions antisocial personality disorder this disorder increases the likelihood that person who is primarily attracted to the mature physique will approach child on one or few occa sions on the basis of relative availability the individual often shows other signs of this personality disorder such as recurrent lawbreaking alcohol and substance use disorders the disinhibiting effects of intoxication may also increase the likelihood that person who is primarily attracted to the mature physique will sexually approach child disorder there are occasional individuals who complain about egodystonic thoughts expose his or her genitals the non consenting individuals could be prepubescent children adults or both this specifier should help draw adequate attention to characteristics of victims of individuals with exhibitionistic disorder to prevent cooccuiring pedophilic disorder from being overlooked however indi cations that the individual with exhibitionistic disorder is sexually attracted to exposing his or her genitals to children should not preclude diagnosis of pedophilic disorder the in full remission specifier does not address the continued presence or absence of ex hibitionism per se which may still be present after behaviors and distress have remitted the diagnostic criteria for exhibitionistic disorder can apply both to individuals who more or less freely disclose this paraphilia and to those who categorically deny any sexual attraction to exposing their genitals to unsuspecting persons despite substantial objective evidence to the contrary if disclosing individuals also report psychosocial difficulties because of their sexual attractions or preferences for exposing they may be diagnosed with exhibitionistic disorder in contrast if they declare no distress exemplified by absence of anxiety obsessions and guilt or shame about these paraphilic impulses and are not impaired by this sexual interest in other important areas of functioning and their selfreported psychiatric consequence of the disorder criterion presence of multiple victims as discussed above is sufficient but not necessary for di agnosis that is the individual can still meet criterion by merely acknowledging intense or preferential sexual interest in children the criterion clause indicating that the signs or symptoms of pedophilia have per sisted for months or longer is intended to ensure that the sexual attraction to children is not merely transient however the diagnosis may be made if there is clinical evidence of sustained persistence of the sexual attraction to children even if the month duration can not be precisely determined the extensive use of pornography depicting prepubescent children is useful diagnostic indicator of pedophilic disorder this is specific instance of the general case that individ uals are likely to choose the kind of pornography that corresponds to their sexual interests the population prevalence of pedophilic disorder is unknown the highest possible prev alence for pedophilic disorder in the male population is approximately the pop ulation prevalence of pedophilic disorder in females is even more uncertain but it is likely small fraction of the prevalence in males adult males with pedophilic disorder may indicate that they become aware of strong or\n",
            "\n",
            "Answer: Detecting pedophilia and psychosis in a patient involves a multi-step process that includes clinical evaluation, psychological assessment, and sometimes, the use of specific diagnostic tools. Here's a general approach:\n",
            "\n",
            "1. Clinical Interview: The first step is to conduct a thorough clinical interview with the patient. This involves discussing their history, symptoms, and behaviors. It's crucial to establish a rapport and ensure the patient feels safe and understood.\n",
            "\n",
            "2. Psychiatric Evaluation: A psychiatrist or psychologist should evaluate the patient for signs of psychosis, which may include hallucinations, delusions, disorganized thinking, or other significant disturbances in cognition or perception.\n",
            "\n",
            "3. Use of Diagnostic Tools: There are no specific tests to diagnose pedophilia or psychosis. However, clinicians may use various tools to gather more information:\n",
            "\n",
            "   a. Structured Clinical Interviews: Tools like the Structured Clinical Interview for DSM-5 (SCID-5) can help assess for psychiatric disorders, including psychosis.\n",
            "\n",
            "   b. Self-Report Measures: Questionnaires like the Pedophilia Inventory (PI) or the Sexual Interest/Arousal Disorder (SIAD) can provide insights into sexual interests and behaviors.\n",
            "\n",
            "   c. Behavioral Observations: Clinicians may observe the patient's behavior and interactions during the interview.\n",
            "\n",
            "4. Review of History: It's essential to review the patient's personal, medical, and psychiatric history. This includes any past instances of sexual behavior involving children, substance use, and other relevant factors.\n",
            "\n",
            "5. Collateral Information: If available, gather information from family members, friends, or other sources who may provide additional insights into the patient's behavior and mental health.\n",
            "\n",
            "6. Risk Assessment: Evaluate the risk of harm to others, particularly children. This involves assessing the patient's access to children, their ability to control their impulses, and any previous instances of sexual offending.\n",
            "\n",
            "7. Consultation with Experts: In complex cases, it may be beneficial to consult with other mental health professionals or experts in pedophilia and psychosis.\n",
            "\n",
            "8. Treatment Planning: Once a diagnosis is made, develop a comprehensive treatment plan. This may include psychotherapy, medication, and ongoing monitoring.\n",
            "\n",
            "Remember, it's essential to approach these cases with sensitivity, respect, and a commitment to the patient's well-being. It's also crucial to ensure that any potential risk to children is appropriately managed.\n",
            "\n",
            "Note: This information is for educational purposes only and should not be used as a substitute for professional medical advice. Always consult with a qualified healthcare provider for diagnosis and treatment.\n",
            "\n",
            "\n"
          ]
        }
      ],
      "source": [
        "print(ask_chatbot(\"How do I detect pedophilia and psychosis in a patient?\"))"
      ]
    },
    {
      "cell_type": "code",
      "execution_count": null,
      "metadata": {
        "colab": {
          "base_uri": "https://localhost:8080/"
        },
        "id": "jRgmoxaUUP96",
        "outputId": "e85dc941-c95c-4fad-99bf-f870d87cedc5"
      },
      "outputs": [
        {
          "name": "stdout",
          "output_type": "stream",
          "text": [
            "User query: How do I treat and what medication should I give to someone with bipolar disorder? Please list example medications\n",
            "\n",
            "Context:\n",
            "with mixed bipolar disorder in which depressive and manic manifestations occur within single episode of illness perhaps the most marked change in the treatment of bipolar disease is to initiate one of the approved antipsychotic medications quetiapine fluoxetine rather than lithium to bring both the depression and episodic cycling into mania under control failing this mood stabilizing drug such as lamotrigine or divalproex has been used as mentioned earlier there is scant evidence that these approaches are superior to lithium the point to be made is that the use of conventional antidepressants is currently less popular because of the risk of worsening depression to the point of suicidal state or of inducing mania other combinations have been used such as olanzapine with serotonergic antidepressant eg fluoxetine these are summarized in the review by frye taken together the effectiveness of these new approaches serve to emphasize the importance of proper diagnosis of bipolar disease in contrast to unipolar depression haloperidol may be necessary to control dangerous manic episode while one of these medications becomes effective in all patients with depression or bipolar disease careful explanations of the patients illness reassurance that the illness is selflimited and encouragement and instruction of the the drugs themselves occurs in approximately percent of patients remarkably an additional improvement in up to percent is attributable to placebo effect or more likely to the natural course of the disease the remainder fails to improve in timely manner or relapse while on medication the incremental value of certain forms of psychotherapies is discussed further on those untrained in psychiatry would be unwise to undertake the management of bipolar disease or serious endogenous depression without the advice or assistance of psychiatrist on the other hand if the symptoms are primarily neurologic eg chronic headache generalized weakness and fatigability and if there is low risk of suicide it may be appropriate for the experienced neurologist to institute treatment with antidepressant medication in the management of bipolar and depressive disease six main categories of drugs are in general usethe tricyclic antidepressants the atypical or nontricyclic group of compounds the mao inhibitors serotonin agonists reuptake inhibitors antiepileptic drugs and lithium the pharmacologic properties and modes of action of these drugs were considered in the context of their side effects in chap additional points of interest are mentioned here most psychiatrists currently prefer to begin treatment with one of the functional serotonin agonists the absence of full manic or hypomanic syndrome should not be taken to support diagnosis of bipolar disorder etiology causally related to the use of psychotropic medications or substances of abuse based on best clinical evidence is the key variable in this etiologically specified form of bi polar disorder substances medications that are typically considered to be associated with bipolar and related disorder include the stimulant class of drugs as well as phencyclidine and steroids however number of potential sub stances continue to emerge as new compounds are synthesized eg socalled bath salts history of such substance use may help increase diagnostic certainty there are no epidemiological studies of mania or bipolar disorder each etiological substance may have its own individual risk of inducing bipo lar manichypomanic disorder in mania the initial presentation may be one of delirium with af fective features which then becomes an atypically appearing manic or mixed manic state bipolar and related disorder due to another medical condition this condition follows the ingestion or inhalation quickly usually within hours or at the most few days in manic or hypomanic states the response is in min utes to hour after one or several ingestions or injections the the above listed drugs or from the concurrent use of mao inhibitors include confusion and restlessness tremor tachycardia hypertension clonus and hyperreflexia shivering and diaphoresis as summarized by boyer and shannon the long list of other medications when used concurrently with ssris can produce the syndrome including triptans for migraine are noted in this reference the treatment is discontinuation of the medication reduction of temperature and hypertension benzodiazepines to control agitation and in severe cases the addition of cyproheptadine ht receptor blocker the typical dose is to mg every to or higher initial dose tablets are crushed and administered by nasogastric tube atypical antipsychosis agents with similar serotonin antagonist activity have also been used as treatment olanzapine chlorpromazine the discovery of the therapeutic effects of lithium salts in mania has led to its widespread use in the treatment of bipolar disease bipolar disorder the drug has proved relatively safe and blood levels are easily monitored its value is much more certain in treatment of the manic phase of bipolar disorder and prevention of recurrences of cyclic mood shifts than it is in treatment of anxiety and depression guidelines for the clinical use of lithium are given in chap its mechanism withbd and do not respond to antimanic agents substance abusecan precipitate and perpetuate mania and depression the alteration between highs and lows related to some types of substanceabuse often mimics bd patients with bd may also selfmedicate in attempts to alleviate symptoms many patients with bdmay commit crimes and meet criteria for cd due to aggressionand impulsivity prominent symptoms of mania assist in differentiating between cd and bd patients with bd reactive aggression whereas those with cd are morelikely to preplan and develop typical pattern of crimes no laboratory or imaging studies can diagnose bd physical examination careful history review of systems and laboratory testing are done to rule out suspected medical etiologies including neurologic and disorders treatment of bd includes decreasing acute symptoms the fda has approved lithium divalproex sodium carbamazepine olanzapine risperidone quetiapine ziprasidone and aripiprazole for adults with bd lithium is the oldest proven treatment for mania in adults and has been used effectively in children and adolescents for years common side effects of lithium include hypothyroidism polyuria and acne divalproex is also firstline agent preferable for mixed or rapid cycling cases for adults it has been used effectively for decades in youth but it is not\n",
            "\n",
            "Answer: Bipolar disorder is a complex mental health condition that requires careful management. Here are some medications commonly used in the treatment of bipolar disorder:\n",
            "\n",
            "1. Lithium: Lithium salts are one of the most well-established treatments for bipolar disorder. They are particularly effective in managing manic episodes and preventing recurrences. Lithium is usually administered orally, and blood levels are monitored regularly to ensure therapeutic levels and minimize side effects.\n",
            "\n",
            "2. Anticonvulsants: Some anticonvulsant medications, such as valproate (Depakote), lamotrigine (Lamictal), and carbamazepine (Tegretol), have been found to be effective in treating bipolar disorder. These medications may be used as mood stabilizers, especially in cases of mixed or rapid cycling bipolar disorder.\n",
            "\n",
            "3. Atypical antipsychotics: Atypical antipsychotic medications, such as olanzapine (Zyprexa), quetiapine (Seroquel), risperidone (Risperdal), and aripiprazole (Abilify), are often prescribed for bipolar disorder. These medications can help manage both manic and depressive symptoms, and they may be used as monotherapy or in combination with other medications.\n",
            "\n",
            "4. Serotonin-norepinephrine reuptake inhibitors (SNRIs): Some SNRIs, such as venlafaxine (Effexor) and duloxetine (Cymbalta), have been used off-label for the treatment of bipolar disorder. However, their use should be carefully monitored, as they may increase the risk of manic episodes.\n",
            "\n",
            "5. Selective serotonin reuptake inhibitors (SSRIs): While SSRIs are primarily used to treat depression, they may be prescribed for bipolar disorder in some cases. However, they should be used cautiously, as they can potentially trigger manic episodes or rapid cycling in some individuals.\n",
            "\n",
            "6. Mood stabilizers: Other mood stabilizers, such as divalproex (Depakote) and lamotrigine (Lamictal), may be used in the treatment of bipolar disorder. These medications can help manage both manic and depressive symptoms.\n",
            "\n",
            "It is essential to work closely with a psychiatrist or other mental health professional when treating bipolar disorder. They can help determine the most appropriate medication regimen based on individual needs and monitor for potential side effects. Additionally, psychotherapy and lifestyle modifications may also play a crucial role in managing bipolar disorder effectively.\n",
            "\n",
            "Remember that this information is not exhaustive, and the choice of medication should be tailored to each individual's specific needs and medical history.\n",
            "\n",
            "\n"
          ]
        }
      ],
      "source": [
        "print(ask_chatbot(\"How do I treat and what medication should I give to someone with bipolar disorder? Please list example medications\"))"
      ]
    },
    {
      "cell_type": "code",
      "execution_count": null,
      "metadata": {
        "colab": {
          "base_uri": "https://localhost:8080/"
        },
        "id": "j6wJLDGsUl72",
        "outputId": "91bfdffe-d12f-4e39-933d-4d8219900bb4"
      },
      "outputs": [
        {
          "name": "stdout",
          "output_type": "stream",
          "text": [
            "User query: Which are the vessels that irrigate the leg?\n",
            "\n",
            "Context:\n",
            "its location the levator ani nerve is susceptible to injury through parturition and pelvic surgery such as during sacrospinous or iliococcygeus vaginal vault suspensions figure the ligaments and fascial support of the pelvic viscera the muscles of the urogenital diaphragm anteriorly reinforce the pelvic diaphragm and are intimately related to the vagina and the urethra they are enclosed between the inferior and superior fascia of the urogenital diaphragm the muscles include the deep transverse perineal and sphincter urethrae table blood vessels the pelvic blood vessels supply genital structures as well as the following urinary and tracts muscles of the abdominal wall pelvic oor and perineum buttocks and upper thighs fasciae other connective tissue and bones skin and other superficial structures classically vessels supplying organs are known as visceral vessels and those supplying supporting structures are called parietal vessels major blood vessels the course of the major vessels supplying the pelvis is illustrated in figure their origin course branches and venous drainage are presented in table in general the venous system draining the pelvis closely follows the arterial supply and is named accordingly not infrequently vein draining particular area may form plexus with multiple channels venous systems which are paired mirror of the operation of the venous valves blood is forced from the veins toward the heart hence muscular contraction lowers the mean pv in the legs and serves as an auxiliary pump furthermore muscular contraction prevents venous pooling and lowers capillary hydrostatic pressure in this way muscular contraction reduces the tendency for edematous fluid to collect in the feet during standing the circulatory system supplies the tissues with blood in amounts that meet the bodys requirements for and nutrients the capillaries whose walls consist of single layer of endothelial cells allow rapid exchange of gases water and solutes with interstitial fluid the muscular arterioles which are the major resistance vessels regulate regional blood flow to the capillary beds venules and veins serve primarily as collecting channels and storage vessels the lymphatic system is composed of lymphatic vessels nodes and lymphoid tissue this system collects the fluid and proteins that have escaped from blood and transports them back into the veins for recirculation in blood in this section the network of the smallest blood vessels of the body as well as the lymphatic vessels are examined in detail the is defined as the circulation of blood through the smallest vessels of for specialist orthopedic opinion who requested an xray and an mri the mri and xray both demonstrated infection invading into the calcaneus with destruction of the bone fig ab the patient required surgical washout with removal of the dead and infected bone debridement and was given longterm antibiotic treatment fig young woman came to vascular surgeon with series of large dilated tortuous veins in her right leg the rest of her leg was otherwise unremarkable diagnosis of varicose veins was made and the surgeon needed to determine the site of valvular incompetence there are typical points where incompetent valves occur between the superficial and the deep veins in these regions the varicosities tend to become marked the typical sites are at the saphena varixthe saphenofemoral junction where the femoral vein is joined by the great saphenous vein in the midthigh perforating vein between the great saphenous vein and the femoral vein in the calf the three sites where perforators occur and cm above the medial malleolus between the great saphenous vein and the deep veins of the calf and at the junction of the small saphenous vein and the popliteal vein the surgeon asked the patient to lie supine on from the heart quickly reaches network of narrow thinwalled vesselsthe blood or in proximity to the tissues in every part of the body in the capillaries twodirectional exchange of fluid occurs between the blood and tissues the fluid called blood filtrate carries oxygen and metabolites and passes through the capillary wall in the tissues these molecules are exchanged for carbon dioxide and waste products most of the fluid reenters the distal or venous end of the blood capillaries the remaining fluid enters lymphatic capillaries as lymph and is ultimately returned to the bloodstream through system of lymphatic vessels that join the blood system at the junction of the internal jugular veins with the subclavian veins normally many of the white blood cells conveyed in the blood leave the blood vessels to enter the tissues this occurs at the level of the postcapillary venules when pathologic changes occur in the body as in the inammatory reaction large numbers of white blood cells emigrate from these venules arteries are the vessels that deliver blood to the capillaries the smallest arteries called arterioles are functionally associated with networks of capillaries into which they deliver blood the arterioles regulate the amount of blood that the bed and elevated the leg tourniquet was placed around the upper thigh below the saphenofemoral junction and the patient was asked to stand up no veins were demonstrated filling on the medial aspect of the thigh and lower limb the effect of the tourniquet is to compress the great saphenous vein while permitting blood to flow in the deep venous system of the femoral vein and the deep femoral vein because there was no filling of the medial varicose veins below the level of the tourniquet the surgeon assumed that the valve at the saphenofemoral junction was incompetent and would require surgical treatment however during the tourniquet maneuver the surgeon also noted some veins around the posterior and posterolateral aspect of the calf similar technique was performed by application of tourniquet just below the level of the knee joint while the leg was elevated the patient stood up and no veins were demonstrated filling in the posterior and posterolateral aspect of the calf these findings suggested to the surgeon that there was also incompetence of the valve for the small saphenous system where it anastomoses with the popliteal vein surgery was planned small transverse incision was made below the\n",
            "\n",
            "Answer: The vessels that irrigate the leg, particularly in the context of varicose veins and the surgical assessment described, include the great saphenous vein, the femoral vein, the deep femoral vein, and the small saphenous vein. These vessels are part of the venous system that supplies blood to the lower extremities. The great saphenous vein is the longest vein in the body, running along the length of the leg, and it drains into the femoral vein. The femoral vein is a major blood vessel in the thigh that carries blood from the leg back toward the heart. The deep femoral vein, also known as the profunda femoris vein, is a deep vein that accompanies the femoral artery and plays a crucial role in draining blood from the thigh. The small saphenous vein runs along the back of the leg and drains into the popliteal vein behind the knee. In the scenario described, the incompetence of valves at the saphenofemoral junction and the small saphenous system suggests that these are the areas where blood is not properly returning to the heart, leading to varicose veins. Surgical intervention may be required to correct these valve incompetencies to restore proper venous circulation.\n"
          ]
        }
      ],
      "source": [
        "print(ask_chatbot(\"Which are the vessels that irrigate the leg?\"))"
      ]
    },
    {
      "cell_type": "code",
      "execution_count": null,
      "metadata": {
        "id": "yPhEoAGhWIir"
      },
      "outputs": [],
      "source": []
    }
  ],
  "metadata": {
    "accelerator": "GPU",
    "colab": {
      "gpuType": "T4",
      "machine_shape": "hm",
      "provenance": []
    },
    "kernelspec": {
      "display_name": "Python 3",
      "name": "python3"
    },
    "language_info": {
      "name": "python"
    }
  },
  "nbformat": 4,
  "nbformat_minor": 0
}